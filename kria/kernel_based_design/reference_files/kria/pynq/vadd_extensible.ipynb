{
 "cells": [
  {
   "cell_type": "markdown",
   "metadata": {},
   "source": [
    "# Tutorial project for Kria KV260\n",
    "FK, 22.1.24\n",
    "\n",
    "This tutorial project shows the typical steps needed in order to program a HLS IP Core (kernel). The project uses the `vadd_extensible_platform` Vitis project. See further documentation on this project and the design flow on the Hochschule Pforzheim Git server https://gitlab.hs-pforzheim.de\n",
    "\n",
    "The programmable logic binary of this tutorial contains a kernel `vadd` which does a simple vector addition of two input vectors to a result vector. All vectors are stored in main memory and are accessed via AXI Master interfaces from the kernel. The size of the vectors can be programmed via a register in the AXI slave interface of the kernel.\n",
    "\n",
    "This tutorial uses PYNQ, which is a Python library from Xilinx and offers the use of Jupyter notebooks for programming the application software for Zynqs and Ultrascale Zynqs. In this tutorial we use the Kria KV260 board. The Jupyter notebook is running on the Kria target and can be accessed via web browser (`<ip_address>:9090/lab`). Get the IP address of the board in your network. You can also access the board via ssh (`ssh ubuntu@<ip_address>`). The notebooks are stored on the Kria target under the following path: `/home/root/jupyter_notebooks`. This is the root directory when you access the Jupyter notebook via web browser. We suggest to make a project directory under this root directory. You can do this when you ssh to the board (you need some Linux command line knowledge for this). Then copy this Jupyter notebook from your Vitis system project to this directory (e.g. via sftp). Be aware that you need `root`-privileges in order to do this, so precede every command with `sudo`. And be careful what you are doing!\n",
    "\n",
    "Information on PYNQ can be found on http://www.pynq.io. There is also a PYNQ documentation on https://pynq.readthedocs.io/en/latest/getting_started.html\n",
    "\n",
    "We will comment the following steps with markdown cells before each step. The first cell loads some libraries, especially the PYNQ library. The numpy library is used for the vectors. The notebook uses some python modules from a local directory (see next cell). Make sure that the path to this directory fits your system. \n"
   ]
  },
  {
   "cell_type": "code",
   "execution_count": null,
   "metadata": {},
   "outputs": [],
   "source": [
    "# Import libraries\n",
    "import numpy as np\n",
    "import time\n",
    "from pynq import allocate, Overlay\n",
    "# Import modules from utilities directory\n",
    "import sys\n",
    "sys.path.append(\"/home/root/jupyter_notebooks/projects/utils/\")\n",
    "import perftimer as pt\n",
    "import hls_ip as ip\n",
    "\n",
    "#Define project path\n",
    "project_path = \"/home/ubuntu/projects/vadd/\"\n",
    "#Define bitfile name\n",
    "bitfile = project_path + \"vadd_hw.xclbin\""
   ]
  },
  {
   "cell_type": "markdown",
   "metadata": {},
   "source": [
    "In the next cell the size of the vectors is set and the so-called overlay is loaded into the programmable logic (PL) of the Kria KV260. The overlay is the bitfile which is programmed into the PL. In the context of the design with the extensible platform the binary file `binary_container_1.xclbin`, which was generated in Vitis, can be used here to program the PL. The PYNQ `Overlay` class is used to load the binary and the object `vadd_design` is used to work with the hardware in the PL. With the `help` function we can get information on the overlay. Most important here are the IP blocks and their names, because they are used in the following. For this demo there should be an IP block called `krnl_vadd_1`.\n"
   ]
  },
  {
   "cell_type": "code",
   "execution_count": 4,
   "metadata": {},
   "outputs": [
    {
     "data": {
      "application/javascript": "\ntry {\nrequire(['notebook/js/codecell'], function(codecell) {\n  codecell.CodeCell.options_default.highlight_modes[\n      'magic_text/x-csrc'] = {'reg':[/^%%microblaze/]};\n  Jupyter.notebook.events.one('kernel_ready.Kernel', function(){\n      Jupyter.notebook.get_cells().map(function(cell){\n          if (cell.cell_type == 'code'){ cell.auto_highlight(); } }) ;\n  });\n});\n} catch (e) {};\n"
     },
     "metadata": {},
     "output_type": "display_data"
    },
    {
     "data": {
      "application/javascript": "\ntry {\nrequire(['notebook/js/codecell'], function(codecell) {\n  codecell.CodeCell.options_default.highlight_modes[\n      'magic_text/x-csrc'] = {'reg':[/^%%pybind11/]};\n  Jupyter.notebook.events.one('kernel_ready.Kernel', function(){\n      Jupyter.notebook.get_cells().map(function(cell){\n          if (cell.cell_type == 'code'){ cell.auto_highlight(); } }) ;\n  });\n});\n} catch (e) {};\n"
     },
     "metadata": {},
     "output_type": "display_data"
    },
    {
     "name": "stdout",
     "output_type": "stream",
     "text": [
      "Help on Overlay in module pynq.overlay:\n",
      "\n",
      "<pynq.overlay.Overlay object>\n",
      "    Default documentation for overlay /home/ubuntu/projects/hw/vadd/vadd_hw.xclbin. The following\n",
      "    attributes are available on this overlay:\n",
      "    \n",
      "    IP Blocks\n",
      "    ----------\n",
      "    krnl_vadd_1          : pynq.overlay.DefaultIP\n",
      "    \n",
      "    Hierarchies\n",
      "    -----------\n",
      "    None\n",
      "    \n",
      "    Interrupts\n",
      "    ----------\n",
      "    None\n",
      "    \n",
      "    GPIO Outputs\n",
      "    ------------\n",
      "    None\n",
      "    \n",
      "    Memories\n",
      "    ------------\n",
      "    HP2                  : Memory\n",
      "\n"
     ]
    }
   ],
   "source": [
    "# set size of input vectors and output vectors\n",
    "size = 100\n",
    "# Load overlay\n",
    "vadd_design = Overlay(bitfile)\n",
    "# Get some information on the overlay\n",
    "help(vadd_design)"
   ]
  },
  {
   "cell_type": "markdown",
   "metadata": {},
   "source": [
    "In the next cell we generate an object for the IP core (or \"kernel\") and get informations on the register map of the AXI slave interface of the kernel. The register names will be used subsequently. There should always be a CTRL-register which contains the block control interface of the kernel. Each block control signal is represented by a control bit in the register (AP_START etc.). The other registers represent the arguments of the C/C++ code of the IP core. In this example there should the registers `in1`, `in2`, `out_r` and `size`. The first three register are programmed with the start addresses of the vectors in memory and are used by the AXI master interfaces in order to access the data in main memory. The `size`-register is programmed with the transfer size (=vector size). "
   ]
  },
  {
   "cell_type": "code",
   "execution_count": 5,
   "metadata": {},
   "outputs": [
    {
     "data": {
      "text/plain": [
       "RegisterMap {\n",
       "  CTRL = Register(AP_START=0, AP_DONE=0, AP_IDLE=1, AP_READY=0, AUTO_RESTART=0, AP_CONTINUE=0),\n",
       "  in1 = Register(value=0),\n",
       "  in2 = Register(value=0),\n",
       "  out_r = Register(value=0),\n",
       "  size = Register(value=0)\n",
       "}"
      ]
     },
     "execution_count": 5,
     "metadata": {},
     "output_type": "execute_result"
    }
   ],
   "source": [
    "# Create IP object (\"driver\").\n",
    "vadd_ip = vadd_design.krnl_vadd_1\n",
    "# Show register map of ip\n",
    "vadd_ip.register_map"
   ]
  },
  {
   "cell_type": "markdown",
   "metadata": {},
   "source": [
    "In the next cell we allocate numpy vectors for the input buffers, the output buffer and a buffer for the reference data. Since we do a vector addition, the reference data is generated by an addition here. The function `allocate` allocates buffers using a numpy syntax and returns the buffer objects, which can be used like numpy arrays. The memory is allocated somewhere in virtual memory, the physical memory addresses can be retrieved by the function `.device_address`. For a documentation see:  https://pynq.readthedocs.io/en/latest/pynq_libraries/allocate.html\n",
    "If you need help on `numpy`, you can find it here: https://numpy.org"
   ]
  },
  {
   "cell_type": "code",
   "execution_count": 6,
   "metadata": {},
   "outputs": [],
   "source": [
    "# allocate buffers\n",
    "inbuf1 = allocate(shape=(size,), dtype=np.uint32)\n",
    "inbuf2 = allocate(shape=(size,), dtype=np.uint32)\n",
    "outbuf = allocate(shape=(size,), dtype=np.uint32)\n",
    "refbuf = allocate(shape=(size,), dtype=np.uint32)\n",
    "\n",
    "#Fill buffers for input, output\n",
    "#Generate the reference buffer by doing the vector addition\n",
    "for i in range(size):\n",
    "    inbuf1[i] = i\n",
    "    inbuf2[i] = i+3\n",
    "    outbuf[i] = 0\n",
    "    refbuf[i] = inbuf1[i] + inbuf2[i]\n"
   ]
  },
  {
   "cell_type": "markdown",
   "metadata": {},
   "source": [
    "In the next cell the kernel registers are programmed. The registers `in1`, `in2` and `out_r` are programmed with the start addresses of the data buffers in main memory using the member function `.device_address` of the buffers. Finally the `size` register is programmed with the transfer size."
   ]
  },
  {
   "cell_type": "code",
   "execution_count": 7,
   "metadata": {},
   "outputs": [],
   "source": [
    "# Load buffer addresses into registers\n",
    "vadd_ip.register_map.in1 = inbuf1.device_address\n",
    "vadd_ip.register_map.in2 = inbuf2.device_address\n",
    "vadd_ip.register_map.out_r = outbuf.device_address\n",
    "\n",
    "# Set size register\n",
    "vadd_ip.register_map.size = size"
   ]
  },
  {
   "cell_type": "markdown",
   "metadata": {},
   "source": [
    "In the next cell the IP Core is run and execution time for the kernel is measured. The time measurement is done with a timer class from the module `perftimer` (see Python script `perftimer.py`). The IP core is run by the function `run_ip` from the module `hls_ip` (see Python script `hls_ip.py`).  The result should now be in the output buffer `output_buffer`in main memory. Note that this time measurement may differ from the execution time measurement of the the C/C++ application!  "
   ]
  },
  {
   "cell_type": "code",
   "execution_count": 8,
   "metadata": {},
   "outputs": [
    {
     "name": "stdout",
     "output_type": "stream",
     "text": [
      "Execution time HW: elapsed time: 521.966 us\n"
     ]
    },
    {
     "data": {
      "text/plain": [
       "521.966"
      ]
     },
     "execution_count": 8,
     "metadata": {},
     "output_type": "execute_result"
    }
   ],
   "source": [
    "# Initialize a timer\n",
    "hw_timer = pt.Timer(\"Execution time HW:\", True)\n",
    "# Start timer\n",
    "hw_timer.start()\n",
    "# Run the IP\n",
    "ip.run_ip(vadd_ip)\n",
    "# Stop timer\n",
    "hw_timer.stop()"
   ]
  },
  {
   "cell_type": "markdown",
   "metadata": {},
   "source": [
    "Finally we compare the output vector generated by the kernel with the reference vector and print a final verdict."
   ]
  },
  {
   "cell_type": "code",
   "execution_count": 9,
   "metadata": {},
   "outputs": [
    {
     "name": "stdout",
     "output_type": "stream",
     "text": [
      "Test succeeded!\n"
     ]
    }
   ],
   "source": [
    "# Check if output vector equals the reference vector \n",
    "if (outbuf == refbuf).all():\n",
    "    print(\"Test succeeded!\")\n",
    "else:\n",
    "    print(\"Test failed!\")"
   ]
  },
  {
   "cell_type": "code",
   "execution_count": null,
   "metadata": {},
   "outputs": [],
   "source": []
  }
 ],
 "metadata": {
  "kernelspec": {
   "display_name": "Python 3 (ipykernel)",
   "language": "python",
   "name": "python3"
  },
  "language_info": {
   "codemirror_mode": {
    "name": "ipython",
    "version": 3
   },
   "file_extension": ".py",
   "mimetype": "text/x-python",
   "name": "python",
   "nbconvert_exporter": "python",
   "pygments_lexer": "ipython3",
   "version": "3.10.12"
  }
 },
 "nbformat": 4,
 "nbformat_minor": 4
}
